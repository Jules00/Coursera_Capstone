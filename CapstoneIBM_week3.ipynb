{
 "cells": [
  {
   "cell_type": "code",
   "execution_count": 1,
   "metadata": {},
   "outputs": [],
   "source": [
    "import pandas as pd\n",
    "import numpy as np\n",
    "from sklearn.cluster import KMeans\n",
    "import folium"
   ]
  },
  {
   "cell_type": "code",
   "execution_count": 2,
   "metadata": {},
   "outputs": [
    {
     "name": "stdout",
     "output_type": "stream",
     "text": [
      "Hello Capstone Project Course!\n"
     ]
    }
   ],
   "source": [
    "print(\"Hello Capstone Project Course!\")"
   ]
  },
  {
   "cell_type": "markdown",
   "metadata": {},
   "source": [
    "PART 1"
   ]
  },
  {
   "cell_type": "code",
   "execution_count": 3,
   "metadata": {},
   "outputs": [],
   "source": [
    "#Scrape webpage, reanme columns\n",
    "Df=pd.read_html(\"https://en.wikipedia.org/wiki/List_of_postal_codes_of_Canada:_M\")[0]\n",
    "Df.columns = [\"PostalCode\", \"Borough\", \"Neighborhood\"]\n",
    "Df.drop(labels = 0, axis = 0, inplace = True)"
   ]
  },
  {
   "cell_type": "code",
   "execution_count": 4,
   "metadata": {},
   "outputs": [],
   "source": [
    "#Filter out \"Not assigned borough\"\n",
    "condition = Df['Borough'] != 'Not assigned'\n",
    "Df = Df[condition]"
   ]
  },
  {
   "cell_type": "code",
   "execution_count": 5,
   "metadata": {},
   "outputs": [],
   "source": [
    "#If a cell has a borough but a Not assigned neighborhood, then the neighborhood will be the same as \n",
    "#the borough. So for the 9th cell in the table on the Wikipedia page, the value of the Borough \n",
    "#and the Neighborhood columns will be Queen's Park.\n",
    "\n",
    "for i in range(len(Df)):\n",
    "    if Df.iloc[i]['Neighborhood'] == \"Not assigned\":\n",
    "        Df.iloc[i]['Neighborhood'] = Df.iloc[i]['Borough']"
   ]
  },
  {
   "cell_type": "code",
   "execution_count": 6,
   "metadata": {},
   "outputs": [],
   "source": [
    "#More than one neighborhood can exist in one postal code area. For example, in the table on the \n",
    "#Wikipedia page, you will notice that M5A is listed twice and has two neighborhoods: \n",
    "#Harbourfront and Regent Park. These two rows will be combined into one row with the neighborhoods \n",
    "#separated with a comma as shown in row 11 in the above table.\n",
    "\n",
    "Df['new_column'] = Df.groupby(['PostalCode'])['Neighborhood'].transform(lambda x: ', '.join(x))\n",
    "Df.drop_duplicates(subset = \"PostalCode\", inplace = True)\n",
    "Df.drop(labels = \"Neighborhood\", axis = 1, inplace = True)\n",
    "Df.columns = [\"PostalCode\", \"Borough\", \"Neighborhood\"]"
   ]
  },
  {
   "cell_type": "code",
   "execution_count": 7,
   "metadata": {},
   "outputs": [
    {
     "data": {
      "text/plain": [
       "(103, 3)"
      ]
     },
     "execution_count": 7,
     "metadata": {},
     "output_type": "execute_result"
    }
   ],
   "source": [
    "#In the last cell of your notebook, use the .shape method to print the number of rows of your dataframe.\n",
    "Df.shape"
   ]
  },
  {
   "cell_type": "code",
   "execution_count": 8,
   "metadata": {},
   "outputs": [
    {
     "data": {
      "text/html": [
       "<div>\n",
       "<style scoped>\n",
       "    .dataframe tbody tr th:only-of-type {\n",
       "        vertical-align: middle;\n",
       "    }\n",
       "\n",
       "    .dataframe tbody tr th {\n",
       "        vertical-align: top;\n",
       "    }\n",
       "\n",
       "    .dataframe thead th {\n",
       "        text-align: right;\n",
       "    }\n",
       "</style>\n",
       "<table border=\"1\" class=\"dataframe\">\n",
       "  <thead>\n",
       "    <tr style=\"text-align: right;\">\n",
       "      <th></th>\n",
       "      <th>PostalCode</th>\n",
       "      <th>Borough</th>\n",
       "      <th>Neighborhood</th>\n",
       "    </tr>\n",
       "  </thead>\n",
       "  <tbody>\n",
       "    <tr>\n",
       "      <th>3</th>\n",
       "      <td>M3A</td>\n",
       "      <td>North York</td>\n",
       "      <td>Parkwoods</td>\n",
       "    </tr>\n",
       "    <tr>\n",
       "      <th>4</th>\n",
       "      <td>M4A</td>\n",
       "      <td>North York</td>\n",
       "      <td>Victoria Village</td>\n",
       "    </tr>\n",
       "    <tr>\n",
       "      <th>5</th>\n",
       "      <td>M5A</td>\n",
       "      <td>Downtown Toronto</td>\n",
       "      <td>Harbourfront, Regent Park</td>\n",
       "    </tr>\n",
       "    <tr>\n",
       "      <th>7</th>\n",
       "      <td>M6A</td>\n",
       "      <td>North York</td>\n",
       "      <td>Lawrence Heights, Lawrence Manor</td>\n",
       "    </tr>\n",
       "    <tr>\n",
       "      <th>9</th>\n",
       "      <td>M7A</td>\n",
       "      <td>Queen's Park</td>\n",
       "      <td>Queen's Park</td>\n",
       "    </tr>\n",
       "  </tbody>\n",
       "</table>\n",
       "</div>"
      ],
      "text/plain": [
       "  PostalCode           Borough                      Neighborhood\n",
       "3        M3A        North York                         Parkwoods\n",
       "4        M4A        North York                  Victoria Village\n",
       "5        M5A  Downtown Toronto         Harbourfront, Regent Park\n",
       "7        M6A        North York  Lawrence Heights, Lawrence Manor\n",
       "9        M7A      Queen's Park                      Queen's Park"
      ]
     },
     "execution_count": 8,
     "metadata": {},
     "output_type": "execute_result"
    }
   ],
   "source": [
    "Df.head()"
   ]
  },
  {
   "cell_type": "markdown",
   "metadata": {},
   "source": [
    "PART 2"
   ]
  },
  {
   "cell_type": "code",
   "execution_count": 9,
   "metadata": {},
   "outputs": [],
   "source": [
    "#Read geodata and combine in ONE csv\n",
    "\n",
    "Geodata = pd.read_csv(\"Geospatial_Coordinates.csv\")\n",
    "Geodata.columns = [\"PostalCode\", \"Latitude\", \"Longitude\"]\n",
    "Df_geo = pd.merge(Df, Geodata, on = 'PostalCode')\n",
    "\n"
   ]
  },
  {
   "cell_type": "code",
   "execution_count": 10,
   "metadata": {},
   "outputs": [
    {
     "data": {
      "text/html": [
       "<div>\n",
       "<style scoped>\n",
       "    .dataframe tbody tr th:only-of-type {\n",
       "        vertical-align: middle;\n",
       "    }\n",
       "\n",
       "    .dataframe tbody tr th {\n",
       "        vertical-align: top;\n",
       "    }\n",
       "\n",
       "    .dataframe thead th {\n",
       "        text-align: right;\n",
       "    }\n",
       "</style>\n",
       "<table border=\"1\" class=\"dataframe\">\n",
       "  <thead>\n",
       "    <tr style=\"text-align: right;\">\n",
       "      <th></th>\n",
       "      <th>PostalCode</th>\n",
       "      <th>Borough</th>\n",
       "      <th>Neighborhood</th>\n",
       "      <th>Latitude</th>\n",
       "      <th>Longitude</th>\n",
       "    </tr>\n",
       "  </thead>\n",
       "  <tbody>\n",
       "    <tr>\n",
       "      <th>0</th>\n",
       "      <td>M3A</td>\n",
       "      <td>North York</td>\n",
       "      <td>Parkwoods</td>\n",
       "      <td>43.753259</td>\n",
       "      <td>-79.329656</td>\n",
       "    </tr>\n",
       "    <tr>\n",
       "      <th>1</th>\n",
       "      <td>M4A</td>\n",
       "      <td>North York</td>\n",
       "      <td>Victoria Village</td>\n",
       "      <td>43.725882</td>\n",
       "      <td>-79.315572</td>\n",
       "    </tr>\n",
       "    <tr>\n",
       "      <th>2</th>\n",
       "      <td>M5A</td>\n",
       "      <td>Downtown Toronto</td>\n",
       "      <td>Harbourfront, Regent Park</td>\n",
       "      <td>43.654260</td>\n",
       "      <td>-79.360636</td>\n",
       "    </tr>\n",
       "    <tr>\n",
       "      <th>3</th>\n",
       "      <td>M6A</td>\n",
       "      <td>North York</td>\n",
       "      <td>Lawrence Heights, Lawrence Manor</td>\n",
       "      <td>43.718518</td>\n",
       "      <td>-79.464763</td>\n",
       "    </tr>\n",
       "    <tr>\n",
       "      <th>4</th>\n",
       "      <td>M7A</td>\n",
       "      <td>Queen's Park</td>\n",
       "      <td>Queen's Park</td>\n",
       "      <td>43.662301</td>\n",
       "      <td>-79.389494</td>\n",
       "    </tr>\n",
       "  </tbody>\n",
       "</table>\n",
       "</div>"
      ],
      "text/plain": [
       "  PostalCode           Borough                      Neighborhood   Latitude  \\\n",
       "0        M3A        North York                         Parkwoods  43.753259   \n",
       "1        M4A        North York                  Victoria Village  43.725882   \n",
       "2        M5A  Downtown Toronto         Harbourfront, Regent Park  43.654260   \n",
       "3        M6A        North York  Lawrence Heights, Lawrence Manor  43.718518   \n",
       "4        M7A      Queen's Park                      Queen's Park  43.662301   \n",
       "\n",
       "   Longitude  \n",
       "0 -79.329656  \n",
       "1 -79.315572  \n",
       "2 -79.360636  \n",
       "3 -79.464763  \n",
       "4 -79.389494  "
      ]
     },
     "execution_count": 10,
     "metadata": {},
     "output_type": "execute_result"
    }
   ],
   "source": [
    "#Result\n",
    "Df_geo.head()"
   ]
  },
  {
   "cell_type": "code",
   "execution_count": null,
   "metadata": {},
   "outputs": [],
   "source": []
  },
  {
   "cell_type": "markdown",
   "metadata": {},
   "source": [
    "PART 3"
   ]
  },
  {
   "cell_type": "code",
   "execution_count": 11,
   "metadata": {},
   "outputs": [],
   "source": [
    "#Filter for boroughs that contain the word Toronto\n",
    "num = []\n",
    "for i in range(len(Df_geo)):\n",
    "    a = \"Toronto\" in Df_geo.iloc[i]['Borough']\n",
    "    if a == True:\n",
    "        num = num + [i]\n",
    "\n",
    "Df_geo_T = Df_geo.iloc[num]\n"
   ]
  },
  {
   "cell_type": "code",
   "execution_count": 12,
   "metadata": {},
   "outputs": [
    {
     "data": {
      "text/html": [
       "<div>\n",
       "<style scoped>\n",
       "    .dataframe tbody tr th:only-of-type {\n",
       "        vertical-align: middle;\n",
       "    }\n",
       "\n",
       "    .dataframe tbody tr th {\n",
       "        vertical-align: top;\n",
       "    }\n",
       "\n",
       "    .dataframe thead th {\n",
       "        text-align: right;\n",
       "    }\n",
       "</style>\n",
       "<table border=\"1\" class=\"dataframe\">\n",
       "  <thead>\n",
       "    <tr style=\"text-align: right;\">\n",
       "      <th></th>\n",
       "      <th>PostalCode</th>\n",
       "      <th>Borough</th>\n",
       "      <th>Neighborhood</th>\n",
       "      <th>Latitude</th>\n",
       "      <th>Longitude</th>\n",
       "    </tr>\n",
       "  </thead>\n",
       "  <tbody>\n",
       "    <tr>\n",
       "      <th>2</th>\n",
       "      <td>M5A</td>\n",
       "      <td>Downtown Toronto</td>\n",
       "      <td>Harbourfront, Regent Park</td>\n",
       "      <td>43.654260</td>\n",
       "      <td>-79.360636</td>\n",
       "    </tr>\n",
       "    <tr>\n",
       "      <th>9</th>\n",
       "      <td>M5B</td>\n",
       "      <td>Downtown Toronto</td>\n",
       "      <td>Ryerson, Garden District</td>\n",
       "      <td>43.657162</td>\n",
       "      <td>-79.378937</td>\n",
       "    </tr>\n",
       "    <tr>\n",
       "      <th>15</th>\n",
       "      <td>M5C</td>\n",
       "      <td>Downtown Toronto</td>\n",
       "      <td>St. James Town</td>\n",
       "      <td>43.651494</td>\n",
       "      <td>-79.375418</td>\n",
       "    </tr>\n",
       "    <tr>\n",
       "      <th>19</th>\n",
       "      <td>M4E</td>\n",
       "      <td>East Toronto</td>\n",
       "      <td>The Beaches</td>\n",
       "      <td>43.676357</td>\n",
       "      <td>-79.293031</td>\n",
       "    </tr>\n",
       "    <tr>\n",
       "      <th>20</th>\n",
       "      <td>M5E</td>\n",
       "      <td>Downtown Toronto</td>\n",
       "      <td>Berczy Park</td>\n",
       "      <td>43.644771</td>\n",
       "      <td>-79.373306</td>\n",
       "    </tr>\n",
       "  </tbody>\n",
       "</table>\n",
       "</div>"
      ],
      "text/plain": [
       "   PostalCode           Borough               Neighborhood   Latitude  \\\n",
       "2         M5A  Downtown Toronto  Harbourfront, Regent Park  43.654260   \n",
       "9         M5B  Downtown Toronto   Ryerson, Garden District  43.657162   \n",
       "15        M5C  Downtown Toronto             St. James Town  43.651494   \n",
       "19        M4E      East Toronto                The Beaches  43.676357   \n",
       "20        M5E  Downtown Toronto                Berczy Park  43.644771   \n",
       "\n",
       "    Longitude  \n",
       "2  -79.360636  \n",
       "9  -79.378937  \n",
       "15 -79.375418  \n",
       "19 -79.293031  \n",
       "20 -79.373306  "
      ]
     },
     "execution_count": 12,
     "metadata": {},
     "output_type": "execute_result"
    }
   ],
   "source": [
    "Df_geo_T.head()"
   ]
  },
  {
   "cell_type": "code",
   "execution_count": 13,
   "metadata": {},
   "outputs": [],
   "source": [
    "#Latitude and logitude values of Toronto (source = latlong.net)\n",
    "Latitude_toronto = 43.651070\n",
    "Longitutde_toronto = -79.347015"
   ]
  },
  {
   "cell_type": "code",
   "execution_count": null,
   "metadata": {},
   "outputs": [],
   "source": []
  },
  {
   "cell_type": "markdown",
   "metadata": {},
   "source": [
    "In order to correctly use the Foursquare API, our dataframe needs to be adjusted. We will reverse the following:\n",
    "\n",
    "\"More than one neighborhood can exist in one postal code area. For example, in the table on the \n",
    "Wikipedia page, you will notice that M5A is listed twice and has two neighborhoods: \n",
    "Harbourfront and Regent Park. These two rows will be combined into one row with the neighborhoods \n",
    "separated with a comma as shown in row 11 in the above table.\"\n"
   ]
  },
  {
   "cell_type": "code",
   "execution_count": 14,
   "metadata": {},
   "outputs": [],
   "source": [
    "##Read data, filte rout \"Not assigned\" boroughs & neighborhoods, merge GEO data,\n",
    "#Filter only for Toronto boroughs(just like part 1 & 2)\n",
    "Df=pd.read_html(\"https://en.wikipedia.org/wiki/List_of_postal_codes_of_Canada:_M\")[0]\n",
    "Df.columns = [\"PostalCode\", \"Borough\", \"Neighborhood\"]\n",
    "Df.drop(labels = 0, axis = 0, inplace = True)\n",
    "\n",
    "condition = Df['Borough'] != 'Not assigned'\n",
    "Df = Df[condition]\n",
    "\n",
    "for i in range(len(Df)):\n",
    "    if Df.iloc[i]['Neighborhood'] == \"Not assigned\":\n",
    "        Df.iloc[i]['Neighborhood'] = Df.iloc[i]['Borough']\n",
    "        \n",
    "Geodata = pd.read_csv(\"Geospatial_Coordinates.csv\")\n",
    "Geodata.columns = [\"PostalCode\", \"Latitude\", \"Longitude\"]\n",
    "Df_geo_new = pd.merge(Df, Geodata, on = 'PostalCode')\n",
    "\n",
    "num = []\n",
    "for i in range(len(Df_geo_new)):\n",
    "    a = \"Toronto\" in Df_geo_new.iloc[i]['Borough']\n",
    "    if a == True:\n",
    "        num = num + [i]\n",
    "\n",
    "Df_geo_new_T = Df_geo_new.iloc[num]"
   ]
  },
  {
   "cell_type": "code",
   "execution_count": 15,
   "metadata": {},
   "outputs": [
    {
     "data": {
      "text/html": [
       "<div>\n",
       "<style scoped>\n",
       "    .dataframe tbody tr th:only-of-type {\n",
       "        vertical-align: middle;\n",
       "    }\n",
       "\n",
       "    .dataframe tbody tr th {\n",
       "        vertical-align: top;\n",
       "    }\n",
       "\n",
       "    .dataframe thead th {\n",
       "        text-align: right;\n",
       "    }\n",
       "</style>\n",
       "<table border=\"1\" class=\"dataframe\">\n",
       "  <thead>\n",
       "    <tr style=\"text-align: right;\">\n",
       "      <th></th>\n",
       "      <th>PostalCode</th>\n",
       "      <th>Borough</th>\n",
       "      <th>Neighborhood</th>\n",
       "      <th>Latitude</th>\n",
       "      <th>Longitude</th>\n",
       "    </tr>\n",
       "  </thead>\n",
       "  <tbody>\n",
       "    <tr>\n",
       "      <th>2</th>\n",
       "      <td>M5A</td>\n",
       "      <td>Downtown Toronto</td>\n",
       "      <td>Harbourfront</td>\n",
       "      <td>43.654260</td>\n",
       "      <td>-79.360636</td>\n",
       "    </tr>\n",
       "    <tr>\n",
       "      <th>3</th>\n",
       "      <td>M5A</td>\n",
       "      <td>Downtown Toronto</td>\n",
       "      <td>Regent Park</td>\n",
       "      <td>43.654260</td>\n",
       "      <td>-79.360636</td>\n",
       "    </tr>\n",
       "    <tr>\n",
       "      <th>13</th>\n",
       "      <td>M5B</td>\n",
       "      <td>Downtown Toronto</td>\n",
       "      <td>Ryerson</td>\n",
       "      <td>43.657162</td>\n",
       "      <td>-79.378937</td>\n",
       "    </tr>\n",
       "    <tr>\n",
       "      <th>14</th>\n",
       "      <td>M5B</td>\n",
       "      <td>Downtown Toronto</td>\n",
       "      <td>Garden District</td>\n",
       "      <td>43.657162</td>\n",
       "      <td>-79.378937</td>\n",
       "    </tr>\n",
       "    <tr>\n",
       "      <th>27</th>\n",
       "      <td>M5C</td>\n",
       "      <td>Downtown Toronto</td>\n",
       "      <td>St. James Town</td>\n",
       "      <td>43.651494</td>\n",
       "      <td>-79.375418</td>\n",
       "    </tr>\n",
       "  </tbody>\n",
       "</table>\n",
       "</div>"
      ],
      "text/plain": [
       "   PostalCode           Borough     Neighborhood   Latitude  Longitude\n",
       "2         M5A  Downtown Toronto     Harbourfront  43.654260 -79.360636\n",
       "3         M5A  Downtown Toronto      Regent Park  43.654260 -79.360636\n",
       "13        M5B  Downtown Toronto          Ryerson  43.657162 -79.378937\n",
       "14        M5B  Downtown Toronto  Garden District  43.657162 -79.378937\n",
       "27        M5C  Downtown Toronto   St. James Town  43.651494 -79.375418"
      ]
     },
     "execution_count": 15,
     "metadata": {},
     "output_type": "execute_result"
    }
   ],
   "source": [
    "Df_geo_new_T.head()"
   ]
  },
  {
   "cell_type": "code",
   "execution_count": 16,
   "metadata": {},
   "outputs": [
    {
     "data": {
      "text/html": [
       "<div style=\"width:100%;\"><div style=\"position:relative;width:100%;height:0;padding-bottom:60%;\"><iframe src=\"data:text/html;charset=utf-8;base64,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\" style=\"position:absolute;width:100%;height:100%;left:0;top:0;border:none !important;\" allowfullscreen webkitallowfullscreen mozallowfullscreen></iframe></div></div>"
      ],
      "text/plain": [
       "<folium.folium.Map at 0x273099d7f28>"
      ]
     },
     "execution_count": 16,
     "metadata": {},
     "output_type": "execute_result"
    }
   ],
   "source": [
    "# create map of Toronto using latitude and longitude values\n",
    "map_toronto = folium.Map(location=[Latitude_toronto, Longitutde_toronto], zoom_start=10)\n",
    "\n",
    "# add markers to map \n",
    "for lat, lng, borough, neighborhood in zip(Df_geo_new_T['Latitude'], Df_geo_new_T['Longitude'], Df_geo_new_T['Borough'], Df_geo_new_T['Neighborhood']):\n",
    "    label = '{}, {}'.format(neighborhood, borough)\n",
    "    label = folium.Popup(label, parse_html=True)\n",
    "    folium.CircleMarker(\n",
    "        [lat, lng],\n",
    "        radius=5,\n",
    "        popup=label,\n",
    "        color='blue',\n",
    "        fill=True,\n",
    "        fill_color='#3186cc',\n",
    "        fill_opacity=0.7,\n",
    "        parse_html=False).add_to(map_toronto)  \n",
    "    \n",
    "map_toronto #Map of Toronto with neighborhoods in Boroughs that contain the word \"Toronto\""
   ]
  },
  {
   "cell_type": "code",
   "execution_count": null,
   "metadata": {},
   "outputs": [],
   "source": []
  },
  {
   "cell_type": "code",
   "execution_count": null,
   "metadata": {},
   "outputs": [],
   "source": []
  },
  {
   "cell_type": "code",
   "execution_count": null,
   "metadata": {},
   "outputs": [],
   "source": []
  }
 ],
 "metadata": {
  "kernelspec": {
   "display_name": "Python 3",
   "language": "python",
   "name": "python3"
  },
  "language_info": {
   "codemirror_mode": {
    "name": "ipython",
    "version": 3
   },
   "file_extension": ".py",
   "mimetype": "text/x-python",
   "name": "python",
   "nbconvert_exporter": "python",
   "pygments_lexer": "ipython3",
   "version": "3.6.4"
  }
 },
 "nbformat": 4,
 "nbformat_minor": 2
}
